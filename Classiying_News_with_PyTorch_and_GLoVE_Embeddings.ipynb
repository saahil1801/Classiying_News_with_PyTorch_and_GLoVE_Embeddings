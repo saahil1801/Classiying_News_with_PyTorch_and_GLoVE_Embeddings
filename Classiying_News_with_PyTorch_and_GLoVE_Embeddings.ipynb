{
  "nbformat": 4,
  "nbformat_minor": 0,
  "metadata": {
    "colab": {
      "provenance": [],
      "machine_shape": "hm",
      "gpuType": "A100"
    },
    "kernelspec": {
      "name": "python3",
      "display_name": "Python 3"
    },
    "language_info": {
      "name": "python"
    },
    "accelerator": "GPU"
  },
  "cells": [
    {
      "cell_type": "code",
      "execution_count": 1,
      "metadata": {
        "colab": {
          "base_uri": "https://localhost:8080/"
        },
        "id": "an6717MdPx1m",
        "outputId": "e77b06bc-f05a-4ad3-d429-f018c32b11bc"
      },
      "outputs": [
        {
          "output_type": "stream",
          "name": "stdout",
          "text": [
            "PyTorch Version : 2.2.1+cu121\n"
          ]
        }
      ],
      "source": [
        "import torch\n",
        "\n",
        "print(\"PyTorch Version : {}\".format(torch.__version__))"
      ]
    },
    {
      "cell_type": "code",
      "source": [
        "import torchtext\n",
        "\n",
        "print(\"Torch Text Version : {}\".format(torchtext.__version__))"
      ],
      "metadata": {
        "colab": {
          "base_uri": "https://localhost:8080/"
        },
        "id": "rIhfxTJePysd",
        "outputId": "8b24fe16-5fbe-4ecb-a34a-43a6937de31f"
      },
      "execution_count": 2,
      "outputs": [
        {
          "output_type": "stream",
          "name": "stdout",
          "text": [
            "Torch Text Version : 0.17.1+cpu\n"
          ]
        }
      ]
    },
    {
      "cell_type": "code",
      "source": [
        "from torchtext.data import get_tokenizer\n",
        "\n",
        "tokenizer = get_tokenizer(\"basic_english\") ## We'll use tokenizer available from PyTorch\n",
        "\n",
        "tokenizer(\"Hello, How are you?\")"
      ],
      "metadata": {
        "colab": {
          "base_uri": "https://localhost:8080/"
        },
        "id": "tg-QbPAAQCVZ",
        "outputId": "08235705-435b-4e24-d67d-9e5f7145a7d0"
      },
      "execution_count": 3,
      "outputs": [
        {
          "output_type": "execute_result",
          "data": {
            "text/plain": [
              "['hello', ',', 'how', 'are', 'you', '?']"
            ]
          },
          "metadata": {},
          "execution_count": 3
        }
      ]
    },
    {
      "cell_type": "code",
      "source": [
        "from torchtext.vocab import GloVe\n",
        "\n",
        "global_vectors = GloVe(name='840B', dim=300)"
      ],
      "metadata": {
        "id": "8j-AR9GxQF9M"
      },
      "execution_count": 4,
      "outputs": []
    },
    {
      "cell_type": "code",
      "source": [
        "embeddings = global_vectors.get_vecs_by_tokens(tokenizer(\"Hello, How are you?\"), lower_case_backup=True)\n",
        "\n",
        "embeddings.shape"
      ],
      "metadata": {
        "colab": {
          "base_uri": "https://localhost:8080/"
        },
        "id": "zbZ_e88iQJLV",
        "outputId": "c06917c3-91fd-42bf-c89e-bd0e112ea20d"
      },
      "execution_count": 5,
      "outputs": [
        {
          "output_type": "execute_result",
          "data": {
            "text/plain": [
              "torch.Size([6, 300])"
            ]
          },
          "metadata": {},
          "execution_count": 5
        }
      ]
    },
    {
      "cell_type": "code",
      "source": [
        "!pip install portalocker==2.8.2\n"
      ],
      "metadata": {
        "colab": {
          "base_uri": "https://localhost:8080/"
        },
        "id": "VydLrsO-T78r",
        "outputId": "a053c4b4-527b-4796-fadc-db5c3609cb76"
      },
      "execution_count": 6,
      "outputs": [
        {
          "output_type": "stream",
          "name": "stdout",
          "text": [
            "Requirement already satisfied: portalocker==2.8.2 in /usr/local/lib/python3.10/dist-packages (2.8.2)\n"
          ]
        }
      ]
    },
    {
      "cell_type": "code",
      "source": [],
      "metadata": {
        "id": "eX2yI5KwUNc8"
      },
      "execution_count": 6,
      "outputs": []
    },
    {
      "cell_type": "code",
      "source": [
        "from torch.utils.data import DataLoader\n",
        "from torchtext.data.functional import to_map_style_dataset\n",
        "\n",
        "max_words = 25\n",
        "embed_len = 300\n",
        "\n",
        "def vectorize_batch(batch):\n",
        "    Y, X = list(zip(*batch))\n",
        "    X = [tokenizer(x) for x in X]\n",
        "    X = [tokens+[\"\"] * (max_words-len(tokens))  if len(tokens)<max_words else tokens[:max_words] for tokens in X]\n",
        "    X_tensor = torch.zeros(len(batch), max_words, embed_len)\n",
        "    for i, tokens in enumerate(X):\n",
        "        X_tensor[i] = global_vectors.get_vecs_by_tokens(tokens)\n",
        "    return X_tensor.reshape(len(batch), -1), torch.tensor(Y) - 1 ## Subtracted 1 from labels to bring in range [0,1,2,3] from [1,2,3,4]\n",
        "\n",
        "target_classes = [\"World\", \"Sports\", \"Business\", \"Sci/Tech\"]\n",
        "\n",
        "train_dataset, test_dataset  = torchtext.datasets.AG_NEWS()\n",
        "train_dataset, test_dataset = to_map_style_dataset(train_dataset), to_map_style_dataset(test_dataset)\n",
        "\n",
        "train_loader = DataLoader(train_dataset, batch_size=1024, collate_fn=vectorize_batch)\n",
        "test_loader  = DataLoader(test_dataset, batch_size=1024, collate_fn=vectorize_batch)"
      ],
      "metadata": {
        "id": "WPM8gNAzTqbG"
      },
      "execution_count": 9,
      "outputs": []
    },
    {
      "cell_type": "code",
      "source": [
        "for X, Y in train_loader:\n",
        "    print(X.shape, Y.shape)\n",
        "    break"
      ],
      "metadata": {
        "colab": {
          "base_uri": "https://localhost:8080/"
        },
        "id": "OlNDmEAvVjzv",
        "outputId": "f305e14b-6e35-48b3-d41f-f785aa641612"
      },
      "execution_count": 10,
      "outputs": [
        {
          "output_type": "stream",
          "name": "stdout",
          "text": [
            "torch.Size([1024, 7500]) torch.Size([1024])\n"
          ]
        }
      ]
    },
    {
      "cell_type": "code",
      "source": [
        "from torch import nn\n",
        "from torch.nn import functional as F\n",
        "\n",
        "class EmbeddingClassifier(nn.Module):\n",
        "    def __init__(self):\n",
        "        super(EmbeddingClassifier, self).__init__()\n",
        "        self.seq = nn.Sequential(\n",
        "            nn.Linear(max_words*embed_len, 256),\n",
        "            nn.ReLU(),\n",
        "\n",
        "            nn.Linear(256,128),\n",
        "            nn.ReLU(),\n",
        "\n",
        "            nn.Linear(128,64),\n",
        "            nn.ReLU(),\n",
        "\n",
        "            nn.Linear(64, len(target_classes)),\n",
        "        )\n",
        "\n",
        "    def forward(self, X_batch):\n",
        "        return self.seq(X_batch)"
      ],
      "metadata": {
        "id": "3fCKKV3fWChX"
      },
      "execution_count": 11,
      "outputs": []
    },
    {
      "cell_type": "code",
      "source": [
        "from tqdm import tqdm\n",
        "from sklearn.metrics import accuracy_score\n",
        "import gc\n",
        "\n",
        "def CalcValLossAndAccuracy(model, loss_fn, val_loader):\n",
        "    with torch.no_grad():\n",
        "        Y_shuffled, Y_preds, losses = [],[],[]\n",
        "        for X, Y in val_loader:\n",
        "            preds = model(X)\n",
        "            loss = loss_fn(preds, Y)\n",
        "            losses.append(loss.item())\n",
        "\n",
        "            Y_shuffled.append(Y)\n",
        "            Y_preds.append(preds.argmax(dim=-1))\n",
        "\n",
        "        Y_shuffled = torch.cat(Y_shuffled)\n",
        "        Y_preds = torch.cat(Y_preds)\n",
        "\n",
        "        print(\"Valid Loss : {:.3f}\".format(torch.tensor(losses).mean()))\n",
        "        print(\"Valid Acc  : {:.3f}\".format(accuracy_score(Y_shuffled.detach().numpy(), Y_preds.detach().numpy())))\n",
        "\n",
        "def TrainModel(model, loss_fn, optimizer, train_loader, val_loader, epochs=10):\n",
        "    for i in range(1, epochs+1):\n",
        "        losses = []\n",
        "        for X, Y in tqdm(train_loader):\n",
        "            Y_preds = model(X)\n",
        "\n",
        "            loss = loss_fn(Y_preds, Y)\n",
        "            losses.append(loss.item())\n",
        "\n",
        "            optimizer.zero_grad()\n",
        "            loss.backward()\n",
        "            optimizer.step()\n",
        "\n",
        "        if i%5==0:\n",
        "            print(\"Train Loss : {:.3f}\".format(torch.tensor(losses).mean()))\n",
        "            CalcValLossAndAccuracy(model, loss_fn, val_loader)"
      ],
      "metadata": {
        "id": "HuJou1jDXIpY"
      },
      "execution_count": 12,
      "outputs": []
    },
    {
      "cell_type": "code",
      "source": [
        "from torch.optim import Adam\n",
        "\n",
        "epochs = 25\n",
        "learning_rate = 1e-3\n",
        "\n",
        "loss_fn = nn.CrossEntropyLoss()\n",
        "embed_classifier = EmbeddingClassifier()\n",
        "optimizer = Adam(embed_classifier.parameters(), lr=learning_rate)\n",
        "\n",
        "TrainModel(embed_classifier, loss_fn, optimizer, train_loader, test_loader, epochs)"
      ],
      "metadata": {
        "colab": {
          "base_uri": "https://localhost:8080/"
        },
        "id": "9O4JpP-DXMX1",
        "outputId": "a5272b5e-734e-4ab2-8dd2-34009e077b33"
      },
      "execution_count": 13,
      "outputs": [
        {
          "output_type": "stream",
          "name": "stderr",
          "text": [
            "100%|██████████| 118/118 [00:17<00:00,  6.60it/s]\n",
            "100%|██████████| 118/118 [00:17<00:00,  6.66it/s]\n",
            "100%|██████████| 118/118 [00:17<00:00,  6.68it/s]\n",
            "100%|██████████| 118/118 [00:17<00:00,  6.68it/s]\n",
            "100%|██████████| 118/118 [00:17<00:00,  6.59it/s]\n"
          ]
        },
        {
          "output_type": "stream",
          "name": "stdout",
          "text": [
            "Train Loss : 0.160\n",
            "Valid Loss : 0.507\n",
            "Valid Acc  : 0.855\n"
          ]
        },
        {
          "output_type": "stream",
          "name": "stderr",
          "text": [
            "100%|██████████| 118/118 [00:17<00:00,  6.75it/s]\n",
            "100%|██████████| 118/118 [00:17<00:00,  6.85it/s]\n",
            "100%|██████████| 118/118 [00:17<00:00,  6.92it/s]\n",
            "100%|██████████| 118/118 [00:17<00:00,  6.75it/s]\n",
            "100%|██████████| 118/118 [00:17<00:00,  6.61it/s]\n"
          ]
        },
        {
          "output_type": "stream",
          "name": "stdout",
          "text": [
            "Train Loss : 0.073\n",
            "Valid Loss : 0.596\n",
            "Valid Acc  : 0.858\n"
          ]
        },
        {
          "output_type": "stream",
          "name": "stderr",
          "text": [
            "100%|██████████| 118/118 [00:17<00:00,  6.81it/s]\n",
            "100%|██████████| 118/118 [00:17<00:00,  6.76it/s]\n",
            "100%|██████████| 118/118 [00:17<00:00,  6.82it/s]\n",
            "100%|██████████| 118/118 [00:17<00:00,  6.71it/s]\n",
            "100%|██████████| 118/118 [00:17<00:00,  6.83it/s]\n"
          ]
        },
        {
          "output_type": "stream",
          "name": "stdout",
          "text": [
            "Train Loss : 0.016\n",
            "Valid Loss : 0.851\n",
            "Valid Acc  : 0.879\n"
          ]
        },
        {
          "output_type": "stream",
          "name": "stderr",
          "text": [
            "100%|██████████| 118/118 [00:17<00:00,  6.84it/s]\n",
            "100%|██████████| 118/118 [00:17<00:00,  6.81it/s]\n",
            "100%|██████████| 118/118 [00:17<00:00,  6.72it/s]\n",
            "100%|██████████| 118/118 [00:17<00:00,  6.94it/s]\n",
            "100%|██████████| 118/118 [00:17<00:00,  6.84it/s]\n"
          ]
        },
        {
          "output_type": "stream",
          "name": "stdout",
          "text": [
            "Train Loss : 0.003\n",
            "Valid Loss : 0.923\n",
            "Valid Acc  : 0.879\n"
          ]
        },
        {
          "output_type": "stream",
          "name": "stderr",
          "text": [
            "100%|██████████| 118/118 [00:17<00:00,  6.85it/s]\n",
            "100%|██████████| 118/118 [00:17<00:00,  6.81it/s]\n",
            "100%|██████████| 118/118 [00:17<00:00,  6.89it/s]\n",
            "100%|██████████| 118/118 [00:17<00:00,  6.81it/s]\n",
            "100%|██████████| 118/118 [00:17<00:00,  6.85it/s]\n"
          ]
        },
        {
          "output_type": "stream",
          "name": "stdout",
          "text": [
            "Train Loss : 0.002\n",
            "Valid Loss : 0.993\n",
            "Valid Acc  : 0.880\n"
          ]
        }
      ]
    },
    {
      "cell_type": "code",
      "source": [
        "def MakePredictions(model, loader):\n",
        "    Y_shuffled, Y_preds = [], []\n",
        "    for X, Y in loader:\n",
        "        preds = model(X)\n",
        "        Y_preds.append(preds)\n",
        "        Y_shuffled.append(Y)\n",
        "    gc.collect()\n",
        "    Y_preds, Y_shuffled = torch.cat(Y_preds), torch.cat(Y_shuffled)\n",
        "\n",
        "    return Y_shuffled.detach().numpy(), F.softmax(Y_preds, dim=-1).argmax(dim=-1).detach().numpy()\n",
        "\n",
        "Y_actual, Y_preds = MakePredictions(embed_classifier, test_loader)\n",
        "from sklearn.metrics import accuracy_score, classification_report, confusion_matrix\n",
        "\n",
        "print(\"Test Accuracy : {}\".format(accuracy_score(Y_actual, Y_preds)))\n",
        "print(\"\\nClassification Report : \")\n",
        "print(classification_report(Y_actual, Y_preds, target_names=target_classes))\n",
        "print(\"\\nConfusion Matrix : \")\n",
        "print(confusion_matrix(Y_actual, Y_preds))"
      ],
      "metadata": {
        "colab": {
          "base_uri": "https://localhost:8080/"
        },
        "id": "AyZpf9QwXPoQ",
        "outputId": "6585d50b-f257-46b2-c335-d1d3edbe4010"
      },
      "execution_count": 14,
      "outputs": [
        {
          "output_type": "stream",
          "name": "stdout",
          "text": [
            "Test Accuracy : 0.8798684210526316\n",
            "\n",
            "Classification Report : \n",
            "              precision    recall  f1-score   support\n",
            "\n",
            "       World       0.90      0.89      0.90      1900\n",
            "      Sports       0.94      0.96      0.95      1900\n",
            "    Business       0.83      0.83      0.83      1900\n",
            "    Sci/Tech       0.85      0.84      0.84      1900\n",
            "\n",
            "    accuracy                           0.88      7600\n",
            "   macro avg       0.88      0.88      0.88      7600\n",
            "weighted avg       0.88      0.88      0.88      7600\n",
            "\n",
            "\n",
            "Confusion Matrix : \n",
            "[[1692   56   87   65]\n",
            " [  25 1822   34   19]\n",
            " [  95   31 1582  192]\n",
            " [  69   30  210 1591]]\n"
          ]
        }
      ]
    },
    {
      "cell_type": "code",
      "source": [
        "from sklearn.metrics import confusion_matrix\n",
        "import matplotlib.pyplot as plt\n",
        "import numpy as np\n",
        "\n",
        "# Compute confusion matrix\n",
        "cm = confusion_matrix(Y_actual, Y_preds)\n",
        "\n",
        "# Normalize confusion matrix\n",
        "cm_norm = cm.astype('float') / cm.sum(axis=1)[:, np.newaxis]\n",
        "\n",
        "# Plot confusion matrix\n",
        "plt.figure(figsize=(5, 5))\n",
        "plt.imshow(cm_norm, interpolation='nearest', cmap=plt.cm.Purples)\n",
        "plt.title('Confusion Matrix')\n",
        "plt.colorbar()\n",
        "\n",
        "tick_marks = np.arange(len(target_classes))\n",
        "plt.xticks(tick_marks, target_classes, rotation=90)\n",
        "plt.yticks(tick_marks, target_classes)\n",
        "\n",
        "plt.tight_layout()\n",
        "plt.ylabel('True label')\n",
        "plt.xlabel('Predicted label')\n",
        "plt.show()\n"
      ],
      "metadata": {
        "colab": {
          "base_uri": "https://localhost:8080/",
          "height": 505
        },
        "id": "cg_q2UpPZCtj",
        "outputId": "2c870e86-35f2-489f-bfea-7ad5ddebbfbf"
      },
      "execution_count": 16,
      "outputs": [
        {
          "output_type": "display_data",
          "data": {
            "text/plain": [
              "<Figure size 500x500 with 2 Axes>"
            ],
            "image/png": "[encoded data removed]"
          },
          "metadata": {}
        }
      ]
    },
    {
      "cell_type": "code",
      "source": [],
      "metadata": {
        "id": "1k2UlQk2ZGu3"
      },
      "execution_count": null,
      "outputs": []
    }
  ]
}